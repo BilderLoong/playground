{
 "cells": [
  {
   "cell_type": "markdown",
   "metadata": {},
   "source": [
    "# My python reference"
   ]
  },
  {
   "cell_type": "code",
   "execution_count": 9,
   "metadata": {},
   "outputs": [
    {
     "name": "stdout",
     "output_type": "stream",
     "text": [
      "<class 'list'>\n",
      "<map object at 0x106872e00>\n"
     ]
    }
   ],
   "source": [
    "import json\n",
    "res = json.loads(\n",
    "\"\"\"[\n",
    "    {\n",
    "      \"functionId\": 3764,\n",
    "      \"permissionCode\": 2974,\n",
    "      \"functionName\": \"查看二维码管理\",\n",
    "      \"controlled\": 1,\n",
    "      \"availableInBuffer\": -1,\n",
    "      \"availableOutBuffer\": 0,\n",
    "      \"authType\": 1,\n",
    "      \"quoted\": 0,\n",
    "      \"affectMenuDisplay\": 1,\n",
    "      \"rank\": null,\n",
    "      \"creator\": \"suhailun02\",\n",
    "      \"createdTime\": 1653902341000,\n",
    "      \"modifier\": \"suhailun02\",\n",
    "      \"modifiedTime\": 1654846237000,\n",
    "      \"resourceState\": 2,\n",
    "      \"menuCode\": null,\n",
    "      \"rootApplied\": 1,\n",
    "      \"orgPoiApplied\": 0,\n",
    "      \"singlePoiApplied\": 1,\n",
    "      \"adminApplied\": 0,\n",
    "      \"bizNode\": \"testkey_permission_5.19.60闪电S13_1\"\n",
    "    },\n",
    "    {\n",
    "      \"functionId\": 3766,\n",
    "      \"permissionCode\": 2976,\n",
    "      \"functionName\": \"编辑二维码管理\",\n",
    "      \"controlled\": 1,\n",
    "      \"availableInBuffer\": -1,\n",
    "      \"availableOutBuffer\": 0,\n",
    "      \"authType\": 1,\n",
    "      \"quoted\": 0,\n",
    "      \"affectMenuDisplay\": 1,\n",
    "      \"rank\": null,\n",
    "      \"creator\": \"suhailun02\",\n",
    "      \"createdTime\": 1653902379000,\n",
    "      \"modifier\": \"suhailun02\",\n",
    "      \"modifiedTime\": 1654846237000,\n",
    "      \"resourceState\": 2,\n",
    "      \"menuCode\": null,\n",
    "      \"rootApplied\": 1,\n",
    "      \"orgPoiApplied\": 0,\n",
    "      \"singlePoiApplied\": 1,\n",
    "      \"adminApplied\": 0,\n",
    "      \"bizNode\": \"testkey_permission_5.19.60闪电S13_1\"\n",
    "    },\n",
    "    {\n",
    "      \"functionId\": 6448,\n",
    "      \"permissionCode\": 5670,\n",
    "      \"functionName\": \"查看桌台点餐码\",\n",
    "      \"controlled\": 1,\n",
    "      \"availableInBuffer\": -1,\n",
    "      \"availableOutBuffer\": 0,\n",
    "      \"authType\": 1,\n",
    "      \"quoted\": 0,\n",
    "      \"affectMenuDisplay\": 1,\n",
    "      \"rank\": null,\n",
    "      \"creator\": \"suhailun02\",\n",
    "      \"createdTime\": 1678868873000,\n",
    "      \"modifier\": \"suhailun02\",\n",
    "      \"modifiedTime\": 1678868873000,\n",
    "      \"resourceState\": 1,\n",
    "      \"menuCode\": null,\n",
    "      \"rootApplied\": 1,\n",
    "      \"orgPoiApplied\": 0,\n",
    "      \"singlePoiApplied\": 1,\n",
    "      \"adminApplied\": 0,\n",
    "      \"bizNode\": \"0\"\n",
    "    },\n",
    "    {\n",
    "      \"functionId\": 6449,\n",
    "      \"permissionCode\": 5671,\n",
    "      \"functionName\": \"编辑桌台点餐码\",\n",
    "      \"controlled\": 1,\n",
    "      \"availableInBuffer\": -1,\n",
    "      \"availableOutBuffer\": 0,\n",
    "      \"authType\": 1,\n",
    "      \"quoted\": 0,\n",
    "      \"affectMenuDisplay\": 1,\n",
    "      \"rank\": null,\n",
    "      \"creator\": \"suhailun02\",\n",
    "      \"createdTime\": 1678868883000,\n",
    "      \"modifier\": \"suhailun02\",\n",
    "      \"modifiedTime\": 1678868883000,\n",
    "      \"resourceState\": 1,\n",
    "      \"menuCode\": null,\n",
    "      \"rootApplied\": 1,\n",
    "      \"orgPoiApplied\": 0,\n",
    "      \"singlePoiApplied\": 1,\n",
    "      \"adminApplied\": 0,\n",
    "      \"bizNode\": \"0\"\n",
    "    },\n",
    "    {\n",
    "      \"functionId\": 6450,\n",
    "      \"permissionCode\": 5672,\n",
    "      \"functionName\": \"查看门店点餐码\",\n",
    "      \"controlled\": 1,\n",
    "      \"availableInBuffer\": -1,\n",
    "      \"availableOutBuffer\": 0,\n",
    "      \"authType\": 1,\n",
    "      \"quoted\": 0,\n",
    "      \"affectMenuDisplay\": 1,\n",
    "      \"rank\": null,\n",
    "      \"creator\": \"suhailun02\",\n",
    "      \"createdTime\": 1678868896000,\n",
    "      \"modifier\": \"suhailun02\",\n",
    "      \"modifiedTime\": 1678868896000,\n",
    "      \"resourceState\": 1,\n",
    "      \"menuCode\": null,\n",
    "      \"rootApplied\": 1,\n",
    "      \"orgPoiApplied\": 0,\n",
    "      \"singlePoiApplied\": 1,\n",
    "      \"adminApplied\": 0,\n",
    "      \"bizNode\": \"0\"\n",
    "    },\n",
    "    {\n",
    "      \"functionId\": 6451,\n",
    "      \"permissionCode\": 5673,\n",
    "      \"functionName\": \"编辑门店点餐码\",\n",
    "      \"controlled\": 1,\n",
    "      \"availableInBuffer\": -1,\n",
    "      \"availableOutBuffer\": 0,\n",
    "      \"authType\": 1,\n",
    "      \"quoted\": 0,\n",
    "      \"affectMenuDisplay\": 1,\n",
    "      \"rank\": null,\n",
    "      \"creator\": \"suhailun02\",\n",
    "      \"createdTime\": 1678868904000,\n",
    "      \"modifier\": \"suhailun02\",\n",
    "      \"modifiedTime\": 1678868904000,\n",
    "      \"resourceState\": 1,\n",
    "      \"menuCode\": null,\n",
    "      \"rootApplied\": 1,\n",
    "      \"orgPoiApplied\": 0,\n",
    "      \"singlePoiApplied\": 1,\n",
    "      \"adminApplied\": 0,\n",
    "      \"bizNode\": \"0\"\n",
    "    },\n",
    "    {\n",
    "      \"functionId\": 6452,\n",
    "      \"permissionCode\": 5674,\n",
    "      \"functionName\": \"查看品牌点餐码\",\n",
    "      \"controlled\": 1,\n",
    "      \"availableInBuffer\": -1,\n",
    "      \"availableOutBuffer\": 0,\n",
    "      \"authType\": 1,\n",
    "      \"quoted\": 0,\n",
    "      \"affectMenuDisplay\": 1,\n",
    "      \"rank\": null,\n",
    "      \"creator\": \"suhailun02\",\n",
    "      \"createdTime\": 1678868914000,\n",
    "      \"modifier\": \"suhailun02\",\n",
    "      \"modifiedTime\": 1678868914000,\n",
    "      \"resourceState\": 1,\n",
    "      \"menuCode\": null,\n",
    "      \"rootApplied\": 1,\n",
    "      \"orgPoiApplied\": 0,\n",
    "      \"singlePoiApplied\": 1,\n",
    "      \"adminApplied\": 0,\n",
    "      \"bizNode\": \"0\"\n",
    "    },\n",
    "    {\n",
    "      \"functionId\": 6453,\n",
    "      \"permissionCode\": 5675,\n",
    "      \"functionName\": \"编辑品牌点餐码\",\n",
    "      \"controlled\": 1,\n",
    "      \"availableInBuffer\": -1,\n",
    "      \"availableOutBuffer\": 0,\n",
    "      \"authType\": 1,\n",
    "      \"quoted\": 0,\n",
    "      \"affectMenuDisplay\": 1,\n",
    "      \"rank\": null,\n",
    "      \"creator\": \"suhailun02\",\n",
    "      \"createdTime\": 1678868923000,\n",
    "      \"modifier\": \"suhailun02\",\n",
    "      \"modifiedTime\": 1678868923000,\n",
    "      \"resourceState\": 1,\n",
    "      \"menuCode\": null,\n",
    "      \"rootApplied\": 1,\n",
    "      \"orgPoiApplied\": 0,\n",
    "      \"singlePoiApplied\": 1,\n",
    "      \"adminApplied\": 0,\n",
    "      \"bizNode\": \"0\"\n",
    "    },\n",
    "    {\n",
    "      \"functionId\": 6454,\n",
    "      \"permissionCode\": 5676,\n",
    "      \"functionName\": \"查看门店主页码\",\n",
    "      \"controlled\": 1,\n",
    "      \"availableInBuffer\": -1,\n",
    "      \"availableOutBuffer\": 0,\n",
    "      \"authType\": 1,\n",
    "      \"quoted\": 0,\n",
    "      \"affectMenuDisplay\": 1,\n",
    "      \"rank\": null,\n",
    "      \"creator\": \"suhailun02\",\n",
    "      \"createdTime\": 1678868936000,\n",
    "      \"modifier\": \"suhailun02\",\n",
    "      \"modifiedTime\": 1678868936000,\n",
    "      \"resourceState\": 1,\n",
    "      \"menuCode\": null,\n",
    "      \"rootApplied\": 1,\n",
    "      \"orgPoiApplied\": 0,\n",
    "      \"singlePoiApplied\": 1,\n",
    "      \"adminApplied\": 0,\n",
    "      \"bizNode\": \"0\"\n",
    "    },\n",
    "    {\n",
    "      \"functionId\": 6455,\n",
    "      \"permissionCode\": 5677,\n",
    "      \"functionName\": \"编辑门店主页码\",\n",
    "      \"controlled\": 1,\n",
    "      \"availableInBuffer\": -1,\n",
    "      \"availableOutBuffer\": 0,\n",
    "      \"authType\": 1,\n",
    "      \"quoted\": 0,\n",
    "      \"affectMenuDisplay\": 1,\n",
    "      \"rank\": null,\n",
    "      \"creator\": \"suhailun02\",\n",
    "      \"createdTime\": 1678868945000,\n",
    "      \"modifier\": \"suhailun02\",\n",
    "      \"modifiedTime\": 1678868945000,\n",
    "      \"resourceState\": 1,\n",
    "      \"menuCode\": null,\n",
    "      \"rootApplied\": 1,\n",
    "      \"orgPoiApplied\": 0,\n",
    "      \"singlePoiApplied\": 1,\n",
    "      \"adminApplied\": 0,\n",
    "      \"bizNode\": \"0\"\n",
    "    },\n",
    "    {\n",
    "      \"functionId\": 6456,\n",
    "      \"permissionCode\": 5678,\n",
    "      \"functionName\": \"查看微信小程序码\",\n",
    "      \"controlled\": 1,\n",
    "      \"availableInBuffer\": -1,\n",
    "      \"availableOutBuffer\": 0,\n",
    "      \"authType\": 1,\n",
    "      \"quoted\": 0,\n",
    "      \"affectMenuDisplay\": 1,\n",
    "      \"rank\": null,\n",
    "      \"creator\": \"suhailun02\",\n",
    "      \"createdTime\": 1678868965000,\n",
    "      \"modifier\": \"suhailun02\",\n",
    "      \"modifiedTime\": 1678868965000,\n",
    "      \"resourceState\": 1,\n",
    "      \"menuCode\": null,\n",
    "      \"rootApplied\": 1,\n",
    "      \"orgPoiApplied\": 0,\n",
    "      \"singlePoiApplied\": 1,\n",
    "      \"adminApplied\": 0,\n",
    "      \"bizNode\": \"0\"\n",
    "    },\n",
    "    {\n",
    "      \"functionId\": 6457,\n",
    "      \"permissionCode\": 5679,\n",
    "      \"functionName\": \"编辑微信小程序码\",\n",
    "      \"controlled\": 1,\n",
    "      \"availableInBuffer\": -1,\n",
    "      \"availableOutBuffer\": 0,\n",
    "      \"authType\": 1,\n",
    "      \"quoted\": 0,\n",
    "      \"affectMenuDisplay\": 1,\n",
    "      \"rank\": null,\n",
    "      \"creator\": \"suhailun02\",\n",
    "      \"createdTime\": 1678868973000,\n",
    "      \"modifier\": \"suhailun02\",\n",
    "      \"modifiedTime\": 1678868973000,\n",
    "      \"resourceState\": 1,\n",
    "      \"menuCode\": null,\n",
    "      \"rootApplied\": 1,\n",
    "      \"orgPoiApplied\": 0,\n",
    "      \"singlePoiApplied\": 1,\n",
    "      \"adminApplied\": 0,\n",
    "      \"bizNode\": \"0\"\n",
    "    },\n",
    "    {\n",
    "      \"functionId\": 6458,\n",
    "      \"permissionCode\": 5680,\n",
    "      \"functionName\": \"制作空码\",\n",
    "      \"controlled\": 1,\n",
    "      \"availableInBuffer\": -1,\n",
    "      \"availableOutBuffer\": 0,\n",
    "      \"authType\": 1,\n",
    "      \"quoted\": 0,\n",
    "      \"affectMenuDisplay\": 1,\n",
    "      \"rank\": null,\n",
    "      \"creator\": \"suhailun02\",\n",
    "      \"createdTime\": 1678868995000,\n",
    "      \"modifier\": \"suhailun02\",\n",
    "      \"modifiedTime\": 1678868995000,\n",
    "      \"resourceState\": 1,\n",
    "      \"menuCode\": null,\n",
    "      \"rootApplied\": 1,\n",
    "      \"orgPoiApplied\": 0,\n",
    "      \"singlePoiApplied\": 1,\n",
    "      \"adminApplied\": 0,\n",
    "      \"bizNode\": \"0\"\n",
    "    }\n",
    "  ]\"\"\"\n",
    ")\n",
    "print(type(res))\n",
    "# map res array to a map only contain functionId and permissionCode and functionName\n",
    "res = list(map(lambda i: {'permissionCode':i['permissionCode'],'':i']} ,res  ))\n",
    "print(res)\n"
   ]
  },
  {
   "cell_type": "code",
   "execution_count": 9,
   "metadata": {},
   "outputs": [
    {
     "data": {
      "text/plain": [
       "ValueError"
      ]
     },
     "execution_count": 9,
     "metadata": {},
     "output_type": "execute_result"
    }
   ],
   "source": [
    "type(ValueError())"
   ]
  },
  {
   "cell_type": "code",
   "execution_count": 2,
   "metadata": {},
   "outputs": [
    {
     "data": {
      "text/plain": [
       "float"
      ]
     },
     "execution_count": 2,
     "metadata": {},
     "output_type": "execute_result"
    }
   ],
   "source": [
    "type(1.1)"
   ]
  },
  {
   "cell_type": "code",
   "execution_count": 3,
   "metadata": {},
   "outputs": [
    {
     "name": "stdout",
     "output_type": "stream",
     "text": [
      "(0, 0)\n",
      "(1, 1)\n",
      "(2, 2)\n",
      "(3, 3)\n",
      "(4, 4)\n"
     ]
    }
   ],
   "source": [
    "for i in enumerate(range(5)):\n",
    "    print(i)"
   ]
  },
  {
   "cell_type": "code",
   "execution_count": 2,
   "metadata": {},
   "outputs": [
    {
     "name": "stdout",
     "output_type": "stream",
     "text": [
      "0\n",
      "1\n",
      "2\n",
      "3\n",
      "4\n",
      "5\n",
      "6\n",
      "7\n",
      "8\n",
      "9\n"
     ]
    }
   ],
   "source": [
    "for i in range(5):\n",
    "    print(i)"
   ]
  },
  {
   "cell_type": "markdown",
   "metadata": {},
   "source": [
    "The below is called floor division is equal to `Math.floor(89/4)` in JS"
   ]
  },
  {
   "cell_type": "code",
   "execution_count": 1,
   "metadata": {},
   "outputs": [
    {
     "data": {
      "text/plain": [
       "22"
      ]
     },
     "execution_count": 1,
     "metadata": {},
     "output_type": "execute_result"
    }
   ],
   "source": [
    "89//4"
   ]
  },
  {
   "cell_type": "code",
   "execution_count": 1,
   "metadata": {},
   "outputs": [
    {
     "data": {
      "text/plain": [
       "'aaaaaaaa'"
      ]
     },
     "execution_count": 1,
     "metadata": {},
     "output_type": "execute_result"
    }
   ],
   "source": [
    "\"a\"*8"
   ]
  },
  {
   "cell_type": "code",
   "execution_count": 2,
   "metadata": {},
   "outputs": [
    {
     "ename": "TypeError",
     "evalue": "can only concatenate str (not \"int\") to str",
     "output_type": "error",
     "traceback": [
      "\u001b[1;31m---------------------------------------------------------------------------\u001b[0m",
      "\u001b[1;31mTypeError\u001b[0m                                 Traceback (most recent call last)",
      "\u001b[1;32m<ipython-input-2-e29823995ef5>\u001b[0m in \u001b[0;36m<module>\u001b[1;34m\u001b[0m\n\u001b[1;32m----> 1\u001b[1;33m \u001b[1;34m\"a\"\u001b[0m\u001b[1;33m+\u001b[0m\u001b[1;36m1\u001b[0m\u001b[1;33m\u001b[0m\u001b[1;33m\u001b[0m\u001b[0m\n\u001b[0m",
      "\u001b[1;31mTypeError\u001b[0m: can only concatenate str (not \"int\") to str"
     ]
    }
   ],
   "source": [
    "\"a\"+1"
   ]
  },
  {
   "cell_type": "code",
   "execution_count": 6,
   "metadata": {},
   "outputs": [
    {
     "ename": "SyntaxError",
     "evalue": "invalid syntax (<ipython-input-6-db7230e3ef00>, line 2)",
     "output_type": "error",
     "traceback": [
      "\u001b[1;36m  File \u001b[1;32m\"<ipython-input-6-db7230e3ef00>\"\u001b[1;36m, line \u001b[1;32m2\u001b[0m\n\u001b[1;33m    a++\u001b[0m\n\u001b[1;37m       ^\u001b[0m\n\u001b[1;31mSyntaxError\u001b[0m\u001b[1;31m:\u001b[0m invalid syntax\n"
     ]
    }
   ],
   "source": [
    "a = 1\n",
    "a++"
   ]
  },
  {
   "cell_type": "code",
   "execution_count": 8,
   "metadata": {},
   "outputs": [
    {
     "name": "stdout",
     "output_type": "stream",
     "text": [
      "hello\n"
     ]
    }
   ],
   "source": [
    "True and print('hello')"
   ]
  },
  {
   "cell_type": "code",
   "execution_count": null,
   "metadata": {},
   "outputs": [],
   "source": []
  }
 ],
 "metadata": {
  "kernelspec": {
   "display_name": "Python 3",
   "language": "python",
   "name": "python3"
  },
  "language_info": {
   "codemirror_mode": {
    "name": "ipython",
    "version": 3
   },
   "file_extension": ".py",
   "mimetype": "text/x-python",
   "name": "python",
   "nbconvert_exporter": "python",
   "pygments_lexer": "ipython3",
   "version": "3.10.5"
  },
  "metadata": {
   "interpreter": {
    "hash": "6b034557ae8096c5cc21a10f1a4f453d63bbc5ed89c16573d1f3e850495d008b"
   }
  },
  "orig_nbformat": 2,
  "vscode": {
   "interpreter": {
    "hash": "8f338bb8c4f58df5dc29f1b30a42bc1d21d0282f41655504f84a4179e1f75c5a"
   }
  }
 },
 "nbformat": 4,
 "nbformat_minor": 2
}
