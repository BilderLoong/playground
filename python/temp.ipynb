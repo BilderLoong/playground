{
 "cells": [
  {
   "cell_type": "code",
   "execution_count": 1,
   "metadata": {},
   "outputs": [
    {
     "name": "stdout",
     "output_type": "stream",
     "text": [
      "{\"recentTwoWeekCodes\": \"number\", \"recentTwoWeekAvgBug\": \"number\", \"curWeekAvgBug\": \"number\", \"curWeekAvgCreateCase\": \"number\", \"curWeekAvgExecCase\": \"number\", \"recentTwoWeekAvgCreateCase\": \"number\", \"recentTwoWeekAvgExecCase\": \"number\", \"curWeekFndBugPerHund\": \"number\", \"recentTwoWeekFndBugPerHund\": \"number\"}\n"
     ]
    }
   ],
   "source": [
    "import json\n",
    "text=\"\"\"recentTwoWeekCodes\n",
    "\n",
    "number\n",
    "\n",
    "recentTwoWeekAvgBug\n",
    "\n",
    "number\n",
    "\n",
    "curWeekAvgBug\n",
    "\n",
    "number\n",
    "\n",
    "curWeekAvgCreateCase\n",
    "\n",
    "number\n",
    "\n",
    "curWeekAvgExecCase\n",
    "\n",
    "number\n",
    "\n",
    "recentTwoWeekAvgCreateCase\n",
    "\n",
    "number\n",
    "\n",
    "recentTwoWeekAvgExecCase\n",
    "\n",
    "number\n",
    "\n",
    "curWeekFndBugPerHund\n",
    "\n",
    "number\n",
    "\n",
    "recentTwoWeekFndBugPerHund\n",
    "\n",
    "number\n",
    "\"\"\"\n",
    "\n",
    "items = list(filter(lambda x: len(x) > 0, text.splitlines()))\n",
    "map={}\n",
    "for i in range(0,len(items),2):\n",
    "\tkey=items[i]\n",
    "\tval=items[i+1]\n",
    "\tmap[key]=val\n",
    "print(json.dumps(map))\n"
   ]
  },
  {
   "cell_type": "markdown",
   "metadata": {},
   "source": []
  },
  {
   "cell_type": "code",
   "execution_count": null,
   "metadata": {},
   "outputs": [],
   "source": [
    "print(123)"
   ]
  }
 ],
 "metadata": {
  "kernelspec": {
   "display_name": "Python 3",
   "language": "python",
   "name": "python3"
  },
  "language_info": {
   "codemirror_mode": {
    "name": "ipython",
    "version": 3
   },
   "file_extension": ".py",
   "mimetype": "text/x-python",
   "name": "python",
   "nbconvert_exporter": "python",
   "pygments_lexer": "ipython3",
   "version": "3.10.5"
  },
  "orig_nbformat": 4,
  "vscode": {
   "interpreter": {
    "hash": "8f338bb8c4f58df5dc29f1b30a42bc1d21d0282f41655504f84a4179e1f75c5a"
   }
  }
 },
 "nbformat": 4,
 "nbformat_minor": 2
}
